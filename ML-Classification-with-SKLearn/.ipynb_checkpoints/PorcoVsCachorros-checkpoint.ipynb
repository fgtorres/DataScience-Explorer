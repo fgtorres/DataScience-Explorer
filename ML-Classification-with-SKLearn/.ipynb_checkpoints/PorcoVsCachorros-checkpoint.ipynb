{
 "cells": [
  {
   "cell_type": "markdown",
   "id": "8c422b0c",
   "metadata": {},
   "source": [
    "# Experimento de Porcos vs Cachorros"
   ]
  },
  {
   "cell_type": "markdown",
   "id": "1b037921",
   "metadata": {},
   "source": [
    "Na tarefa de classificação os estimadores (estimators) são funções para estimar a possível classe do objeto. Essas previsões são geradas por meio de algoritmos de classificação. Para isso utilizaremos nesse notebook:\n",
    "\n",
    "* python\n",
    "* sklearn\n",
    "* numpy\n",
    "* graphviz\n",
    "* seaborn"
   ]
  },
  {
   "cell_type": "code",
   "execution_count": 3,
   "id": "7041bc62",
   "metadata": {},
   "outputs": [],
   "source": [
    "import sklearn\n",
    "import seaborn\n",
    "import numpy as np"
   ]
  },
  {
   "cell_type": "markdown",
   "id": "7535253f",
   "metadata": {},
   "source": [
    "Criando o dataset do experimento com as caracteristicasÇ\n",
    "- pelo longo (1 sim, 0 nao)\n",
    "- perna curta (1 sim, 0 nao)\n",
    "- faz auau (1 sim, 0 nao)"
   ]
  },
  {
   "cell_type": "code",
   "execution_count": 6,
   "id": "b76384ba",
   "metadata": {},
   "outputs": [],
   "source": [
    "porco1 = [0,1,0]\n",
    "porco2 = [0,1,1]\n",
    "porco3 = [1,1,0]\n",
    "\n",
    "cachorro1 = [0,1,1]\n",
    "cachorro2 = [1,0,1]\n",
    "cachorro3 = [1,1,1]\n",
    "\n",
    "dados = [porco1, porco2, porco3, cachorro1, cachorro2, cachorro3]\n",
    "classes = [1,1,1,0,0,0]"
   ]
  },
  {
   "cell_type": "markdown",
   "id": "200242d6",
   "metadata": {},
   "source": [
    "## Utilizando o SVM para classificar os animais\n",
    "\n",
    "Utilizamos o SKlearn SVM para fazer o treinamento do modelo usando o dataset conhecido na função FIT."
   ]
  },
  {
   "cell_type": "code",
   "execution_count": 8,
   "id": "e7dc2364",
   "metadata": {},
   "outputs": [
    {
     "data": {
      "text/plain": [
       "LinearSVC()"
      ]
     },
     "execution_count": 8,
     "metadata": {},
     "output_type": "execute_result"
    }
   ],
   "source": [
    "from sklearn.svm import LinearSVC\n",
    "\n",
    "model = LinearSVC()\n",
    "model.fit(dados,classes)"
   ]
  },
  {
   "cell_type": "markdown",
   "id": "901f8406",
   "metadata": {},
   "source": []
  },
  {
   "cell_type": "code",
   "execution_count": 12,
   "id": "04100aa4",
   "metadata": {},
   "outputs": [
    {
     "data": {
      "text/plain": [
       "array([0])"
      ]
     },
     "execution_count": 12,
     "metadata": {},
     "output_type": "execute_result"
    }
   ],
   "source": [
    "animal_misterioso = [1,1,1]\n",
    "model.predict([animal_misterioso])"
   ]
  }
 ],
 "metadata": {
  "kernelspec": {
   "display_name": "Python 3 (ipykernel)",
   "language": "python",
   "name": "python3"
  },
  "language_info": {
   "codemirror_mode": {
    "name": "ipython",
    "version": 3
   },
   "file_extension": ".py",
   "mimetype": "text/x-python",
   "name": "python",
   "nbconvert_exporter": "python",
   "pygments_lexer": "ipython3",
   "version": "3.9.7"
  }
 },
 "nbformat": 4,
 "nbformat_minor": 5
}
