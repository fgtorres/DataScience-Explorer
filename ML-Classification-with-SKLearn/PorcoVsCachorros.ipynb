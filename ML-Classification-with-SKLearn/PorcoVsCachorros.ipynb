{
 "cells": [
  {
   "cell_type": "markdown",
   "id": "bc49f87f",
   "metadata": {},
   "source": [
    "# Experimento de Porcos vs Cachorros"
   ]
  },
  {
   "cell_type": "markdown",
   "id": "fe97c2f4",
   "metadata": {},
   "source": [
    "Na tarefa de classificação os estimadores (estimators) são funções para estimar a possível classe do objeto. Essas previsões são geradas por meio de algoritmos de classificação. Para isso utilizaremos nesse notebook:\n",
    "\n",
    "* python\n",
    "* sklearn\n",
    "* numpy\n",
    "* graphviz\n",
    "* seaborn"
   ]
  },
  {
   "cell_type": "code",
   "execution_count": 1,
   "id": "4eac22a1",
   "metadata": {},
   "outputs": [],
   "source": [
    "import sklearn\n",
    "import seaborn\n",
    "import numpy as np"
   ]
  },
  {
   "cell_type": "markdown",
   "id": "17e2110e",
   "metadata": {},
   "source": [
    "Criando o dataset do experimento com as caracteristicasÇ\n",
    "- pelo longo (1 sim, 0 nao)\n",
    "- perna curta (1 sim, 0 nao)\n",
    "- faz auau (1 sim, 0 nao)"
   ]
  },
  {
   "cell_type": "code",
   "execution_count": 2,
   "id": "f7ba99fa",
   "metadata": {},
   "outputs": [],
   "source": [
    "porco1 = [0,1,0]\n",
    "porco2 = [0,1,1]\n",
    "porco3 = [1,1,0]\n",
    "\n",
    "cachorro1 = [0,1,1]\n",
    "cachorro2 = [1,0,1]\n",
    "cachorro3 = [1,1,1]\n",
    "\n",
    "treino_x = [porco1, porco2, porco3, cachorro1, cachorro2, cachorro3]\n",
    "treino_y = [1,1,1,0,0,0] #labels / etiquetas"
   ]
  },
  {
   "cell_type": "markdown",
   "id": "847f23c4",
   "metadata": {},
   "source": [
    "## Utilizando o SVM para classificar os animais\n",
    "\n",
    "Utilizamos o SKlearn SVM para fazer o treinamento do modelo usando o dataset conhecido na função FIT."
   ]
  },
  {
   "cell_type": "code",
   "execution_count": 3,
   "id": "8e77f5ca",
   "metadata": {},
   "outputs": [
    {
     "data": {
      "text/plain": [
       "LinearSVC()"
      ]
     },
     "execution_count": 3,
     "metadata": {},
     "output_type": "execute_result"
    }
   ],
   "source": [
    "from sklearn.svm import LinearSVC\n",
    "\n",
    "model = LinearSVC()\n",
    "model.fit(treino_x,treino_y)"
   ]
  },
  {
   "cell_type": "markdown",
   "id": "5057827c",
   "metadata": {},
   "source": [
    "Para avaliar um novo animal, utilizaremos o método predict."
   ]
  },
  {
   "cell_type": "code",
   "execution_count": 4,
   "id": "cc044ffb",
   "metadata": {},
   "outputs": [],
   "source": [
    "animal_misterioso1 = [0,1,1]\n",
    "animal_misterioso2 = [1,1,1]\n",
    "animal_misterioso3 = [1,1,0]\n",
    "\n",
    "\n",
    "teste_x = [animal_misterioso1,animal_misterioso2,animal_misterioso3]\n",
    "teste_y = [0,0,1]\n",
    "\n",
    "\n",
    "previsoes = model.predict(teste_x)"
   ]
  },
  {
   "cell_type": "markdown",
   "id": "0a1ec3fd",
   "metadata": {},
   "source": [
    "# Medindo as métricas do SVM\n",
    "\n",
    "### Manualmente"
   ]
  },
  {
   "cell_type": "code",
   "execution_count": 7,
   "id": "e5ce07b5",
   "metadata": {},
   "outputs": [
    {
     "name": "stdout",
     "output_type": "stream",
     "text": [
      "Taxa de acertos = 100.00 %\n"
     ]
    }
   ],
   "source": [
    "corretos = (previsoes == teste_y).sum()\n",
    "total = len(teste_x)\n",
    "taxa_de_acerto = corretos/total\n",
    "\n",
    "print(\"Taxa de acertos = %.2f\" % (taxa_de_acerto * 100),'%')"
   ]
  },
  {
   "cell_type": "markdown",
   "id": "8303c705",
   "metadata": {},
   "source": [
    "### Usando o sklearn metrics"
   ]
  },
  {
   "cell_type": "code",
   "execution_count": 8,
   "id": "fa0f2895",
   "metadata": {},
   "outputs": [
    {
     "name": "stdout",
     "output_type": "stream",
     "text": [
      "Taxa de acertos = 100.00 %\n"
     ]
    }
   ],
   "source": [
    "from sklearn.metrics import accuracy_score\n",
    "taxa_de_acerto = accuracy_score(teste_y, previsoes)\n",
    "\n",
    "print(\"Taxa de acertos = %.2f\" % (taxa_de_acerto * 100),'%')"
   ]
  }
 ],
 "metadata": {
  "kernelspec": {
   "display_name": "Python 3 (ipykernel)",
   "language": "python",
   "name": "python3"
  },
  "language_info": {
   "codemirror_mode": {
    "name": "ipython",
    "version": 3
   },
   "file_extension": ".py",
   "mimetype": "text/x-python",
   "name": "python",
   "nbconvert_exporter": "python",
   "pygments_lexer": "ipython3",
   "version": "3.8.8"
  }
 },
 "nbformat": 4,
 "nbformat_minor": 5
}
